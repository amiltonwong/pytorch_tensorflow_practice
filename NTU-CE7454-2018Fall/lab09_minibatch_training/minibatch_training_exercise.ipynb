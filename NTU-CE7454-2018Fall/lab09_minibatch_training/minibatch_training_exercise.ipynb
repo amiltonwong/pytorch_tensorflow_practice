{
 "cells": [
  {
   "cell_type": "markdown",
   "metadata": {},
   "source": [
    "# Lab 09: Train with mini-batches -- exercise"
   ]
  },
  {
   "cell_type": "code",
   "execution_count": null,
   "metadata": {},
   "outputs": [],
   "source": [
    "import torch\n",
    "import torch.nn as nn\n",
    "import torch.nn.functional as F\n",
    "import torch.optim as optim\n",
    "from random import randint\n",
    "import utils"
   ]
  },
  {
   "cell_type": "markdown",
   "metadata": {},
   "source": [
    "### Download the data and print the sizes"
   ]
  },
  {
   "cell_type": "code",
   "execution_count": null,
   "metadata": {},
   "outputs": [],
   "source": [
    "train_data=torch.load('../data/fashion-mnist/train_data.pt')\n",
    "\n",
    "print(train_data.size())"
   ]
  },
  {
   "cell_type": "code",
   "execution_count": null,
   "metadata": {},
   "outputs": [],
   "source": [
    "train_label=torch.load('../data/fashion-mnist/train_label.pt')\n",
    "\n",
    "print(train_label.size())"
   ]
  },
  {
   "cell_type": "code",
   "execution_count": null,
   "metadata": {},
   "outputs": [],
   "source": [
    "test_data=torch.load('../data/fashion-mnist/test_data.pt')\n",
    "\n",
    "print(test_data.size())"
   ]
  },
  {
   "cell_type": "markdown",
   "metadata": {},
   "source": [
    "### Make a one layer net class "
   ]
  },
  {
   "cell_type": "code",
   "execution_count": null,
   "metadata": {},
   "outputs": [],
   "source": [
    "class one_layer_net(nn.Module):\n",
    "\n",
    "    def __init__(self, input_size, output_size):\n",
    "        super(one_layer_net , self).__init__()\n",
    "        self.linear_layer = # complete here\n",
    "        \n",
    "    def forward(self, x):\n",
    "        y = # complete here\n",
    "        prob = # complete here\n",
    "        return prob"
   ]
  },
  {
   "cell_type": "markdown",
   "metadata": {},
   "source": [
    "### Build the net"
   ]
  },
  {
   "cell_type": "code",
   "execution_count": null,
   "metadata": {},
   "outputs": [],
   "source": [
    "net=one_layer_net(784,10)\n",
    "print(net)"
   ]
  },
  {
   "cell_type": "markdown",
   "metadata": {},
   "source": [
    "### Choose the size of the mini-batches "
   ]
  },
  {
   "cell_type": "code",
   "execution_count": null,
   "metadata": {},
   "outputs": [],
   "source": [
    "bs= # complete here"
   ]
  },
  {
   "cell_type": "markdown",
   "metadata": {},
   "source": [
    "### Train the network (only 5000 iterations) on the train set"
   ]
  },
  {
   "cell_type": "code",
   "execution_count": null,
   "metadata": {},
   "outputs": [],
   "source": [
    "criterion = nn.NLLLoss()\n",
    "optimizer=torch.optim.SGD(net.parameters() , lr=0.01 )\n",
    "\n",
    "for iter in range(1,5000):\n",
    "    \n",
    "    # create a minibatch\n",
    "    indices=          # complete here\n",
    "    minibatch_data =  # complete here\n",
    "    minibatch_label=  # complete here \n",
    "    \n",
    "    #reshape them to fit the network\n",
    "    inputs=   # complete here\n",
    "\n",
    "    # feed the input to the net  \n",
    "    inputs.requires_grad_()\n",
    "    prob= # complete here\n",
    "    \n",
    "    \n",
    "    # update the weights (all the magic happens here -- we will discuss it later)\n",
    "    log_prob=torch.log(prob)\n",
    "    loss = criterion(log_prob, minibatch_label)    \n",
    "    optimizer.zero_grad()       \n",
    "    loss.backward()\n",
    "    optimizer.step()"
   ]
  },
  {
   "cell_type": "markdown",
   "metadata": {},
   "source": [
    "### Choose image at random from the test set and see how good/bad are the predictions"
   ]
  },
  {
   "cell_type": "code",
   "execution_count": null,
   "metadata": {},
   "outputs": [],
   "source": [
    "# choose a picture at random\n",
    "idx=randint(0, 10000-1)\n",
    "im=test_data[idx]\n",
    "\n",
    "# diplay the picture\n",
    "utils.show(im)\n",
    "\n",
    "# feed it to the net and display the confidence scores\n",
    "prob =  net( im.view(1,784)) \n",
    "utils.show_prob_fashion_mnist(prob)"
   ]
  },
  {
   "cell_type": "code",
   "execution_count": null,
   "metadata": {},
   "outputs": [],
   "source": []
  }
 ],
 "metadata": {
  "kernelspec": {
   "display_name": "Python 3",
   "language": "python",
   "name": "python3"
  },
  "language_info": {
   "codemirror_mode": {
    "name": "ipython",
    "version": 3
   },
   "file_extension": ".py",
   "mimetype": "text/x-python",
   "name": "python",
   "nbconvert_exporter": "python",
   "pygments_lexer": "ipython3",
   "version": "3.6.6"
  }
 },
 "nbformat": 4,
 "nbformat_minor": 2
}
