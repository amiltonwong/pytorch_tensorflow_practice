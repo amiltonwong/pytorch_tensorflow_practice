{
 "cells": [
  {
   "cell_type": "markdown",
   "metadata": {},
   "source": [
    "# Optimization and Tuning Tutorial\n",
    "\n",
    "You've learned how to build computational graphs in PyTorch and compute gradients. The final piece to training a network is applying the gradients to update the network parameters. In this tutorial you will learn how to implement a number of optimization methods in PyTorch. You will also learn to implement batch normalization and random dropout. "
   ]
  },
  {
   "cell_type": "code",
   "execution_count": 1,
   "metadata": {
    "collapsed": true
   },
   "outputs": [],
   "source": [
    "import torch\n",
    "import torch.nn as nn\n",
    "import torch.nn.functional as F\n",
    "from torchvision import transforms, datasets, models\n",
    "import numpy as np\n",
    "import matplotlib.pyplot as plt\n",
    "from torch.autograd import Variable\n",
    "from collections import namedtuple\n",
    "from IPython.display import Image\n",
    "%matplotlib inline\n",
    "np.random.seed(2018)"
   ]
  },
  {
   "cell_type": "markdown",
   "metadata": {},
   "source": [
    "We use the PyTorch dataset API to load a dataset with exactly the same properties as the MNIST handwritten digits dataset:\n",
    "\n",
    "- 28x28 images\n",
    "- 10 classes\n",
    "- Single color channel (B&W)\n",
    "- Centered objects\n",
    "- 50000 training set members\n",
    "- 10000 test set members\n",
    "\n",
    "Instead of handwritten digits, this dataset contains images of 10 different common clothing items. Performance on MNIST saturates quickly with simple network architectures and optimization methods. This dataset, known as Fashion-MNIST, is more difficult than MNIST and is useful to demonstrate the relative improvements of different optimization methods. \n"
   ]
  },
  {
   "cell_type": "code",
   "execution_count": 2,
   "metadata": {
    "collapsed": true
   },
   "outputs": [],
   "source": [
    "class Fashion(datasets.MNIST):\n",
    "\n",
    "    def __init__(self, root, train=True, transform=None, target_transform=None, download=False):\n",
    "        self.urls = [\n",
    "            'http://fashion-mnist.s3-website.eu-central-1.amazonaws.com/train-images-idx3-ubyte.gz',\n",
    "            'http://fashion-mnist.s3-website.eu-central-1.amazonaws.com/train-labels-idx1-ubyte.gz',\n",
    "            'http://fashion-mnist.s3-website.eu-central-1.amazonaws.com/t10k-images-idx3-ubyte.gz',\n",
    "            'http://fashion-mnist.s3-website.eu-central-1.amazonaws.com/t10k-labels-idx1-ubyte.gz',\n",
    "        ]\n",
    "        super(Fashion, self).__init__( root, train=train, transform=transform, target_transform=target_transform, download=download)\n",
    "\n",
    "train_data = Fashion('/tmp/data', train=True, download=True,\n",
    "                            transform=transforms.Compose([\n",
    "                                transforms.ToTensor(),\n",
    "                                transforms.Normalize((0.1307,), (0.3081,))\n",
    "                            ]))\n",
    "\n",
    "test_data = Fashion('/tmp/data', train=False, download=True,\n",
    "                           transform=transforms.Compose([\n",
    "                               transforms.ToTensor(),\n",
    "                               transforms.Normalize((0.1307,), (0.3081,))\n",
    "                           ]))\n",
    "\n",
    "\n",
    "def decode_label(l):\n",
    "    return [\"Top\",\n",
    "     \"Trouser\",\n",
    "     \"Pullover\",\n",
    "     \"Dress\",\n",
    "     \"Coat\",\n",
    "     \"Sandal\",\n",
    "     \"Shirt\",\n",
    "     \"Sneaker\",\n",
    "     \"Bag\",\n",
    "     \"Ankle boot\"\n",
    "    ][l]\n"
   ]
  },
  {
   "cell_type": "markdown",
   "metadata": {},
   "source": [
    "## Some examples from the Fashion-MNIST dataset."
   ]
  },
  {
   "cell_type": "code",
   "execution_count": 3,
   "metadata": {},
   "outputs": [
    {
     "data": {
      "image/png": "[encoded data removed]",
      "text/plain": [
       "<matplotlib.figure.Figure at 0x10d37c208>"
      ]
     },
     "metadata": {},
     "output_type": "display_data"
    }
   ],
   "source": [
    "idxs = np.random.randint(100, size=8)\n",
    "f, a = plt.subplots(2, 4, figsize=(10, 5))\n",
    "for i in range(8):\n",
    "    X = train_data.train_data[idxs[i]]\n",
    "    Y = train_data.train_labels[idxs[i]]\n",
    "    r, c = i // 4, i % 4\n",
    "    a[r][c].set_title(decode_label(Y))\n",
    "    a[r][c].axis('off')\n",
    "    a[r][c].imshow(X.numpy())\n",
    "plt.draw()"
   ]
  },
  {
   "cell_type": "markdown",
   "metadata": {},
   "source": [
    "## Building the model\n",
    "\n",
    "We are most interested in evaluating the performance of different optimization methods and training techniques so we will construct a very simple feedforward network."
   ]
  },
  {
   "cell_type": "code",
   "execution_count": 4,
   "metadata": {},
   "outputs": [
    {
     "name": "stdout",
     "output_type": "stream",
     "text": [
      "FashionModel(\n",
      "  (fc1): Linear(in_features=784, out_features=64)\n",
      "  (fc2): Linear(in_features=64, out_features=32)\n",
      "  (fc3): Linear(in_features=32, out_features=10)\n",
      ")\n"
     ]
    }
   ],
   "source": [
    "class FashionModel(nn.Module):\n",
    "    \n",
    "    def __init__(self):\n",
    "        super(FashionModel, self).__init__()\n",
    "        self.fc1 = nn.Linear(784, 64)\n",
    "        self.fc2 = nn.Linear(64, 32)\n",
    "        self.fc3 = nn.Linear(32, 10)\n",
    "    \n",
    "    def forward(self, x):\n",
    "        x = F.relu(self.fc1(x))\n",
    "        x = F.relu(self.fc2(x))\n",
    "        x = F.log_softmax(self.fc3(x))\n",
    "        return x\n",
    "print(FashionModel())"
   ]
  },
  {
   "cell_type": "markdown",
   "metadata": {},
   "source": [
    "## Parameter Initialization\n",
    "\n",
    "While training a network, the initial value of the weights plays a significant role. In the extreme case, an oracle could just set the weights directly to values that minimize the objective function, and in practical cases a good initialization can bring us to a more favorable starting position in the parameter space. \n",
    "\n",
    "This raises the question of how to choose these weights. What happens if all the weights are set to zero? The gradients become zero, and the network finds itself without a direction. What if all of them are set to the same non-zero value? Although the gradients are no longer zero, each neuron has the same weight and follows the same gradient. Such neurons will continue to have the same value, since they're identical! So any initialization scheme must break this symmetry somehow, and randomly initializing the weights is a first step in that direction.\n",
    "\n",
    "Let's begin with creating a weight initialization function that samples from N(0,1). A clean way of initializing the weights is to access the network parameters by traversing all modules inside the network, and then applying the desired initialization. This method also allows us to encapsulate all the initializations into a single function.\n",
    "\n",
    "\n"
   ]
  },
  {
   "cell_type": "code",
   "execution_count": 5,
   "metadata": {
    "collapsed": true
   },
   "outputs": [],
   "source": [
    "def init_randn(m):\n",
    "    if type(m) == nn.Linear:\n",
    "        m.weight.data.normal_(0,1)"
   ]
  },
  {
   "cell_type": "markdown",
   "metadata": {},
   "source": [
    "Now let's use this scheme to initialize the network.\n",
    "\n",
    "Note that apply(fn) applies the function fn recursively to every submodule (as returned by .children()) as well as self. Also, since it is applied to itself as well, you must take care to select the appropriate type of module m and apply the initialization to it!"
   ]
  },
  {
   "cell_type": "code",
   "execution_count": 6,
   "metadata": {
    "scrolled": false
   },
   "outputs": [
    {
     "data": {
      "text/plain": [
       "FashionModel(\n",
       "  (fc1): Linear(in_features=784, out_features=64)\n",
       "  (fc2): Linear(in_features=64, out_features=32)\n",
       "  (fc3): Linear(in_features=32, out_features=10)\n",
       ")"
      ]
     },
     "execution_count": 6,
     "metadata": {},
     "output_type": "execute_result"
    }
   ],
   "source": [
    "normalmodel = FashionModel()\n",
    "normalmodel.apply(init_randn)"
   ]
  },
  {
   "cell_type": "markdown",
   "metadata": {},
   "source": [
    "## Custom initializations\n",
    "\n",
    "We could also choose a different way to initialize the weights, where you explicitly copy some values into the weights."
   ]
  },
  {
   "cell_type": "code",
   "execution_count": 7,
   "metadata": {},
   "outputs": [
    {
     "data": {
      "text/plain": [
       "FashionModel(\n",
       "  (fc1): Linear(in_features=784, out_features=64)\n",
       "  (fc2): Linear(in_features=64, out_features=32)\n",
       "  (fc3): Linear(in_features=32, out_features=10)\n",
       ")"
      ]
     },
     "execution_count": 7,
     "metadata": {},
     "output_type": "execute_result"
    }
   ],
   "source": [
    "def init_custom(m):\n",
    "    if type(m) == nn.Linear:\n",
    "        rw = torch.randn(m.weight.data.size())\n",
    "        m.weight.data.copy_(rw)\n",
    "\n",
    "custommodel = FashionModel()\n",
    "custommodel.apply(init_custom)"
   ]
  },
  {
   "cell_type": "markdown",
   "metadata": {},
   "source": [
    "## Your turn!\n",
    "\n",
    "Now let's use this initialization scheme to implement Xavier initialization. \n",
    "\n",
    "Xavier initialization is a way of initializing the weights such that the variance of the inputs is the same as the variance of the outputs. At each layer, the fan_in and fan_out (i.e. input connections and output connections) might be different. To calculate the variance, you will multiply each weight with the inputs. Evidently, if the number of inputs is less, they will need to be multiplied with higher weights so that they can sum up to the product of a larger number of outputs with smaller weights. This is the intuition behind Xavier initialization.\n",
    "\n",
    "HINT: You can see the size of the input weight matrix using m.weight.size()"
   ]
  },
  {
   "cell_type": "code",
   "execution_count": 8,
   "metadata": {
    "collapsed": true
   },
   "outputs": [],
   "source": [
    "def init_xavier(m):\n",
    "    if type(m) == nn.Linear:\n",
    "        fan_in = m.weight.size()[1]\n",
    "        fan_out = m.weight.size()[0]\n",
    "        std = np.sqrt(2.0 / (fan_in + fan_out))\n",
    "        m.weight.data.normal_(0,std)"
   ]
  },
  {
   "cell_type": "code",
   "execution_count": 9,
   "metadata": {},
   "outputs": [
    {
     "data": {
      "text/plain": [
       "FashionModel(\n",
       "  (fc1): Linear(in_features=784, out_features=64)\n",
       "  (fc2): Linear(in_features=64, out_features=32)\n",
       "  (fc3): Linear(in_features=32, out_features=10)\n",
       ")"
      ]
     },
     "execution_count": 9,
     "metadata": {},
     "output_type": "execute_result"
    }
   ],
   "source": [
    "xaviermodel = FashionModel()\n",
    "xaviermodel.apply(init_xavier)"
   ]
  },
  {
   "cell_type": "markdown",
   "metadata": {},
   "source": [
    "## Putting the initializations to the test\n",
    "\n",
    "\n",
    "Now let's train, test, and visualize the performance of these models."
   ]
  },
  {
   "cell_type": "code",
   "execution_count": 10,
   "metadata": {
    "collapsed": true
   },
   "outputs": [],
   "source": [
    "train_size = train_data.train_data.shape[0]\n",
    "val_size, train_size = int(0.20 * train_size), int(0.80 * train_size) # 80 / 20 train-val split\n",
    "test_size = test_data.test_data.shape[0]\n",
    "batch_size = 100\n",
    "\n",
    "# add dataset to dataloader that handles batching\n",
    "train_loader = torch.utils.data.DataLoader(train_data, \n",
    "                                           batch_size=batch_size,\n",
    "                                           sampler=torch.utils.data.sampler.SubsetRandomSampler(np.arange(val_size, val_size+train_size)))\n",
    "val_loader = torch.utils.data.DataLoader(train_data, \n",
    "                                           batch_size=batch_size, \n",
    "                                           sampler=torch.utils.data.sampler.SubsetRandomSampler(np.arange(0, val_size)))\n",
    "test_loader = torch.utils.data.DataLoader(test_data, batch_size=batch_size, shuffle=False)\n",
    "\n",
    "# setup metric class\n",
    "Metric = namedtuple('Metric', ['loss', 'train_error', 'val_error'])"
   ]
  },
  {
   "cell_type": "code",
   "execution_count": 11,
   "metadata": {
    "collapsed": true
   },
   "outputs": [],
   "source": [
    "def inference(model, loader, n_members):\n",
    "    correct = 0\n",
    "    for data, label in loader:\n",
    "        X = Variable(data.view(-1, 784))\n",
    "        Y = Variable(label)\n",
    "        out = model(X)\n",
    "        pred = out.data.max(1, keepdim=True)[1]\n",
    "        predicted = pred.eq(Y.data.view_as(pred))\n",
    "        correct += predicted.sum()\n",
    "    return correct / n_members\n",
    "\n",
    "class Trainer():\n",
    "    \"\"\" A simple training cradle\n",
    "    \"\"\"\n",
    "    \n",
    "    def __init__(self, model, optimizer, load_path=None):\n",
    "        self.model = model\n",
    "        if load_path is not None:\n",
    "            self.model = torch.load(load_path)\n",
    "        self.optimizer = optimizer\n",
    "        \n",
    "    def stop_cond(self):\n",
    "        # TODO: Implement early stopping\n",
    "        def deriv(ns):\n",
    "            return [ns[i+1] - ns[i] for i in range(len(ns)-1)]\n",
    "        val_errors = [m.val_error for m in self.metrics]\n",
    "        back = val_errors[-10:]\n",
    "        return sum(deriv(back)) > 0\n",
    "            \n",
    "    def save_model(self, path):\n",
    "        torch.save(self.model.state_dict(), path)\n",
    "\n",
    "    def run(self, epochs):\n",
    "        print(\"begin training...\")\n",
    "        self.metrics = []\n",
    "        for e in range(n_epochs):\n",
    "            if self.stop_cond():\n",
    "                return\n",
    "            epoch_loss = 0\n",
    "            correct = 0\n",
    "            for batch_idx, (data, label) in enumerate(train_loader):\n",
    "                self.optimizer.zero_grad()\n",
    "                X = Variable(data.view(-1, 784))\n",
    "                Y = Variable(label)\n",
    "                out = self.model(X)\n",
    "                pred = out.data.max(1, keepdim=True)[1]\n",
    "                predicted = pred.eq(Y.data.view_as(pred))\n",
    "                correct += predicted.sum()\n",
    "                loss = F.nll_loss(out, Y)\n",
    "                loss.backward()\n",
    "                self.optimizer.step()\n",
    "                epoch_loss += loss.data[0]\n",
    "            total_loss = epoch_loss/train_size\n",
    "            train_error = 1.0 - correct/train_size\n",
    "            val_error = 1.0 - inference(self.model, val_loader, val_size)\n",
    "            print(\"epoch: {0}, loss: {1:.8f}\".format(e+1, total_loss))\n",
    "            self.metrics.append(Metric(loss=total_loss, \n",
    "                                  train_error=train_error,\n",
    "                                  val_error=val_error))\n",
    "         "
   ]
  },
  {
   "cell_type": "code",
   "execution_count": 12,
   "metadata": {},
   "outputs": [
    {
     "name": "stdout",
     "output_type": "stream",
     "text": [
      "begin training...\n"
     ]
    },
    {
     "name": "stderr",
     "output_type": "stream",
     "text": [
      "/Users/rajatkuls/anaconda3/lib/python3.6/site-packages/ipykernel_launcher.py:12: UserWarning: Implicit dimension choice for log_softmax has been deprecated. Change the call to include dim=X as an argument.\n",
      "  if sys.path[0] == '':\n"
     ]
    },
    {
     "name": "stdout",
     "output_type": "stream",
     "text": [
      "epoch: 1, loss: 0.21279161\n",
      "epoch: 2, loss: 0.01641757\n",
      "epoch: 3, loss: 0.01263594\n",
      "epoch: 4, loss: 0.01085610\n",
      "epoch: 5, loss: 0.00974486\n",
      "epoch: 6, loss: 0.00896448\n",
      "epoch: 7, loss: 0.00848017\n",
      "epoch: 8, loss: 0.00808881\n",
      "epoch: 9, loss: 0.00811287\n",
      "epoch: 10, loss: 0.00764723\n",
      "epoch: 11, loss: 0.00775033\n",
      "epoch: 12, loss: 0.00753748\n",
      "epoch: 13, loss: 0.00691765\n",
      "epoch: 14, loss: 0.00622008\n",
      "epoch: 15, loss: 0.00581120\n",
      "epoch: 16, loss: 0.00566051\n",
      "epoch: 17, loss: 0.00585296\n",
      "epoch: 18, loss: 0.00554308\n",
      "epoch: 19, loss: 0.00517059\n",
      "epoch: 20, loss: 0.00499828\n",
      "\n",
      "begin training...\n",
      "epoch: 1, loss: 0.17301077\n",
      "epoch: 2, loss: 0.01660598\n",
      "epoch: 3, loss: 0.01202936\n",
      "epoch: 4, loss: 0.01087482\n",
      "epoch: 5, loss: 0.01026419\n",
      "epoch: 6, loss: 0.00983682\n",
      "epoch: 7, loss: 0.00968466\n",
      "epoch: 8, loss: 0.00920667\n",
      "epoch: 9, loss: 0.00903230\n",
      "epoch: 10, loss: 0.00879332\n",
      "epoch: 11, loss: 0.00866730\n",
      "epoch: 12, loss: 0.00840482\n",
      "epoch: 13, loss: 0.00821132\n",
      "epoch: 14, loss: 0.00749119\n",
      "epoch: 15, loss: 0.00705454\n",
      "epoch: 16, loss: 0.00693351\n",
      "epoch: 17, loss: 0.00684908\n",
      "epoch: 18, loss: 0.00652867\n",
      "epoch: 19, loss: 0.00634456\n",
      "epoch: 20, loss: 0.00600023\n",
      "\n",
      "begin training...\n",
      "epoch: 1, loss: 0.00549864\n",
      "epoch: 2, loss: 0.00414362\n",
      "epoch: 3, loss: 0.00388470\n",
      "epoch: 4, loss: 0.00377842\n",
      "epoch: 5, loss: 0.00362730\n",
      "epoch: 6, loss: 0.00360193\n",
      "epoch: 7, loss: 0.00356227\n",
      "epoch: 8, loss: 0.00347200\n",
      "epoch: 9, loss: 0.00342708\n",
      "epoch: 10, loss: 0.00343735\n",
      "epoch: 11, loss: 0.00329536\n",
      "epoch: 12, loss: 0.00333296\n",
      "epoch: 13, loss: 0.00325839\n",
      "epoch: 14, loss: 0.00327566\n",
      "epoch: 15, loss: 0.00321673\n",
      "\n",
      "Test accuracy of normal initialized model: 82.11\n",
      "Test accuracy of custom initialized model: 74.22\n",
      "Test accuracy of xavier initialized model: 85.52\n"
     ]
    }
   ],
   "source": [
    "### TRAIN MODELS ###\n",
    "n_epochs = 20\n",
    "\n",
    "optimizer = torch.optim.Adam(normalmodel.parameters(), lr=0.01)\n",
    "normaltrainer = Trainer(normalmodel, optimizer)\n",
    "normaltrainer.run(n_epochs)\n",
    "normaltrainer.save_model('./normal_init_model.pt')\n",
    "print('')\n",
    "\n",
    "optimizer = torch.optim.Adam(custommodel.parameters(), lr=0.01)\n",
    "customtrainer = Trainer(custommodel, optimizer)\n",
    "customtrainer.run(n_epochs)\n",
    "customtrainer.save_model('./custom_init_model.pt')\n",
    "print('')\n",
    "\n",
    "optimizer = torch.optim.Adam(xaviermodel.parameters(), lr=0.01)\n",
    "xaviertrainer = Trainer(xaviermodel, optimizer)\n",
    "xaviertrainer.run(n_epochs)\n",
    "xaviertrainer.save_model('./xavier_init_model.pt')\n",
    "print('')\n",
    "\n",
    "\n",
    "### TEST ###\n",
    "normalmodel = FashionModel()\n",
    "normalmodel.load_state_dict(torch.load('./normal_init_model.pt'))\n",
    "test_acc_normal = inference(normalmodel, test_loader, test_size)\n",
    "print(\"Test accuracy of normal initialized model: {0:.2f}\".format(test_acc_normal * 100))\n",
    "\n",
    "custommodel = FashionModel()\n",
    "custommodel.load_state_dict(torch.load('./custom_init_model.pt'))\n",
    "test_acc_custom = inference(custommodel, test_loader, test_size)\n",
    "print(\"Test accuracy of custom initialized model: {0:.2f}\".format(test_acc_custom * 100))\n",
    "\n",
    "xaviermodel = FashionModel()\n",
    "xaviermodel.load_state_dict(torch.load('./xavier_init_model.pt'))\n",
    "test_acc_xavier = inference(xaviermodel, test_loader, test_size)\n",
    "print(\"Test accuracy of xavier initialized model: {0:.2f}\".format(test_acc_xavier * 100))\n",
    "\n"
   ]
  },
  {
   "cell_type": "markdown",
   "metadata": {},
   "source": [
    "## Visualization"
   ]
  },
  {
   "cell_type": "code",
   "execution_count": 13,
   "metadata": {},
   "outputs": [
    {
     "data": {
      "image/png": "[encoded data removed]",
      "text/plain": [
       "<matplotlib.figure.Figure at 0x10d388a58>"
      ]
     },
     "metadata": {},
     "output_type": "display_data"
    },
    {
     "data": {
      "image/png": "[encoded data removed]",
      "text/plain": [
       "<matplotlib.figure.Figure at 0x10d3884e0>"
      ]
     },
     "metadata": {},
     "output_type": "display_data"
    },
    {
     "data": {
      "image/png": "[encoded data removed]",
      "text/plain": [
       "<matplotlib.figure.Figure at 0x115632438>"
      ]
     },
     "metadata": {},
     "output_type": "display_data"
    }
   ],
   "source": [
    "### VISUALIZATION ###\n",
    "def training_plot(metrics):\n",
    "    plt.figure(1)\n",
    "    plt.subplot(121)\n",
    "    plt.plot([m.loss for m in metrics], 'b')\n",
    "    plt.title('Training Loss')\n",
    "\n",
    "    plt.subplot(122)\n",
    "    plt.plot([m.train_error for m in metrics], 'r', label='training')\n",
    "    plt.plot([m.val_error for m in metrics], 'g', label='validation')\n",
    "    plt.title('Error')\n",
    "    plt.legend()\n",
    "    plt.tight_layout()\n",
    "    plt.show()\n",
    "\n",
    "training_plot(normaltrainer.metrics)\n",
    "training_plot(customtrainer.metrics)\n",
    "training_plot(xaviertrainer.metrics)"
   ]
  },
  {
   "cell_type": "markdown",
   "metadata": {},
   "source": [
    "## Using pretrained weights\n",
    "\n",
    "In the previous section we saw that initializations can start the training from a good spot. In addition to these schemes, you might also need to have specific methods to initialize the weights in different layers. For example, you might want to use a pretrained model like Alexnet to give your network a head start for visual recognition tasks. Let's load the pretrained Alexnet model and see how it works."
   ]
  },
  {
   "cell_type": "code",
   "execution_count": null,
   "metadata": {
    "collapsed": true
   },
   "outputs": [],
   "source": [
    "alexnet_model = models.alexnet(pretrained=True)\n"
   ]
  },
  {
   "cell_type": "markdown",
   "metadata": {},
   "source": [
    "## A Simple Optimizer in PyTorch\n",
    "\n",
    "The most simple optimization method is to update the network parameters by adding the negative of the gradient scaled by a fixed learning rate $\\eta$.\n",
    "\n",
    "$$ \\textbf{W'} \\leftarrow \\textbf{W} - \\eta \\nabla L(\\textbf{W}) $$\n",
    "\n",
    "PyTorch provides us a very simple and expressive API for creating custom optimizers. An optimizer in PyTorch subclasses `torch.optim.Optimizer` and is required to specify two methods.\n",
    "\n",
    "`__init__`: Must call the superclass `__init__` and provide a list of network parameters, `params`, to optimize and a dictionary of default values provided to each parameter group, `defaults`. \n",
    "\n",
    "`step`: Performs an update on the network parameters. \n",
    "\n",
    "The meat of your optimizer logic lies in the `step` method. In this method you should update your model parameters with the help of some useful internal datastructures. Let's define these to make the following code more clear.\n",
    "\n",
    "`self.param_groups`: When you initialize an optimizer object, you are required to provide the list of parameter objects to be optimized. In the case of `FashionModel`, there are 6 parameters -- each `Linear` layer has a weight matrix parameter and a bias vector. All of these 6 parameters are considered within a single `param_group`. This `group` will be a dictionary with an entry `params` that contains an iterable of all 6 parameters, as well as entries for all `defaults`. These `defaults` are generally useful for storing small values like hyperparameters that are standard across all parameter groups. There are more advanced cases where it can come in handy to have different values for certain entities depending on the `param_group`. \n",
    "\n",
    "`self.state`: This maintains state for a given parameter. Essentially it maps a parameter to a dictionary of data that you want to keep track of. This is useful in cases where you want to keep state on a per-parameter basis.\n",
    "\n",
    "**IMPORTANT**: Unlike most other use cases in PyTorch, operations on parameters and state data should be done inplace. This ensures that the updated parameters are not updated copies of the original. In the following sample implementations, you may see some unfamiliar operations. Functions like `torch.add_` and `torch.mul_` are just inplace analogues of standard PyTorch functions. See http://pytorch.org/docs/master/torch.html for further details.\n",
    "\n",
    "Below is a simple example of an optimizer that performs vanilla (stochastic) gradient descent."
   ]
  },
  {
   "cell_type": "code",
   "execution_count": 26,
   "metadata": {
    "collapsed": true
   },
   "outputs": [],
   "source": [
    "class VanillaOptim(torch.optim.Optimizer):\n",
    "    \n",
    "    def __init__(self, params, lr=0.01):\n",
    "        # set default learning rate for all parameters\n",
    "        defaults = dict(lr=lr)\n",
    "        super(VanillaOptim, self).__init__(params, defaults)\n",
    "        \n",
    "    def step(self):\n",
    "        \"\"\"Performs a single optimization step.\n",
    "        \"\"\"\n",
    "        for group in self.param_groups:\n",
    "            lr = group['lr']\n",
    "            for p in group['params']: \n",
    "                d_p = p.grad.data\n",
    "                p.data.add_(-lr * d_p)"
   ]
  },
  {
   "cell_type": "markdown",
   "metadata": {},
   "source": [
    "## Adding Momentum\n",
    "\n",
    "We can make use of the `self.state` data-structure to maintain a copy of an accumulated gradient that we also decay at each step. Once again we use inplace operations to avoid unneccesary buffer allocation. Recall a standard update with momentum given decay rate $\\mu$.\n",
    "\n",
    "$$ \\begin{align}\n",
    "\\textbf{V'} &= \\mu \\textbf{V} - \\eta \\nabla L(\\textbf{W})\\\\\n",
    "\\textbf{W'} &= \\textbf{W} + \\textbf{V'}\\\\\n",
    "\\end{align}\n",
    "$$\n",
    "\n",
    "In the following code, we call the decayed accumulated gradient $\\textbf{V}$ in the `self.state` data-structure `momentum_buffer`."
   ]
  },
  {
   "cell_type": "code",
   "execution_count": 27,
   "metadata": {
    "collapsed": true
   },
   "outputs": [],
   "source": [
    "class MomentumOptim(torch.optim.Optimizer):\n",
    "    \n",
    "    def __init__(self, params, lr=0.01, momentum=0.9):\n",
    "        # set default learning rate for all parameters\n",
    "        defaults = dict(lr=lr, momentum=momentum)\n",
    "        super(MomentumOptim, self).__init__(params, defaults)\n",
    "\n",
    "    def step(self):\n",
    "        \"\"\"Performs a single optimization step with momentum\n",
    "        \"\"\"\n",
    "        for group in self.param_groups:\n",
    "            lr = group['lr']\n",
    "            momentum = group['momentum']\n",
    "            for p in group['params']:\n",
    "                d_p = p.grad.data\n",
    "                param_state = self.state[p]\n",
    "                if 'momentum_buffer' not in param_state:\n",
    "                    buf = param_state['momentum_buffer'] = torch.zeros(d_p.size())\n",
    "                else:\n",
    "                    buf = param_state['momentum_buffer']\n",
    "                buf.mul_(momentum).add_(d_p)\n",
    "                p.data.add_(-lr * buf)"
   ]
  },
  {
   "cell_type": "markdown",
   "metadata": {},
   "source": [
    "## Your turn!\n",
    "\n",
    "Follow the algorithm outline provided from the original paper to implement the Adam optimizer. We have provided you with training loop code as well. Once you have completed the optimizer code you should try training and noting relative test performance using vanilla, momentum, and Adam optimizers."
   ]
  },
  {
   "cell_type": "code",
   "execution_count": 28,
   "metadata": {
    "collapsed": true
   },
   "outputs": [],
   "source": [
    "#Image(\"http://www.andrew.cmu.edu/user/rbrigden/adam_algorithm.png\")"
   ]
  },
  {
   "cell_type": "code",
   "execution_count": 29,
   "metadata": {
    "collapsed": true
   },
   "outputs": [],
   "source": [
    "class AdamOptim(torch.optim.Optimizer):\n",
    "    def __init__(self, params, alpha=0.001, beta1=0.9, beta2=0.999):\n",
    "        # set default learning rate for all parameters\n",
    "        defaults = dict(alpha=alpha, beta1=beta1, beta2=beta2)\n",
    "        super(AdamOptim, self).__init__(params, defaults)\n",
    "\n",
    "    def step(self):\n",
    "        \"\"\"Performs a single optimization step with ADAM\n",
    "        \"\"\"\n",
    "        for group in self.param_groups:\n",
    "            eps = 1e-8\n",
    "            alpha = group['alpha']\n",
    "            beta1 = group['beta1']\n",
    "            beta2 = group['beta2']\n",
    "            for p in group['params']:\n",
    "                d_p = p.grad.data\n",
    "                param_state = self.state[p]\n",
    "                if 'first_moment' not in param_state:\n",
    "                    first_moment = param_state['first_moment'] = torch.zeros(d_p.size())\n",
    "                    second_moment = param_state['second_moment'] = torch.zeros(d_p.size())\n",
    "                    t = param_state['time_step'] = torch.zeros(1)\n",
    "                else:\n",
    "                    first_moment = param_state['first_moment']\n",
    "                    second_moment = param_state['second_moment']\n",
    "                    t = param_state['time_step']\n",
    "                t.add_(1)\n",
    "                first_moment.mul_(beta1).add_((1.0-beta1), d_p)\n",
    "                second_moment.mul_(beta2).add_((1.0-beta2), d_p * d_p)\n",
    "                corr1 = first_moment / (1.0 - beta1**t[0])\n",
    "                corr2 = second_moment / (1.0 - beta2**t[0])\n",
    "                p.data.add_(-alpha, corr1 / (torch.sqrt(corr2) + eps))"
   ]
  },
  {
   "cell_type": "markdown",
   "metadata": {},
   "source": [
    "## Putting the Optimizers to the Test\n",
    "\n",
    "Now that we have 3 different optimizers implemented, let's see how they compare head to head."
   ]
  },
  {
   "cell_type": "code",
   "execution_count": 31,
   "metadata": {
    "scrolled": false
   },
   "outputs": [
    {
     "name": "stdout",
     "output_type": "stream",
     "text": [
      "begin training...\n"
     ]
    },
    {
     "name": "stderr",
     "output_type": "stream",
     "text": [
      "/Users/rajatkuls/anaconda3/lib/python3.6/site-packages/ipykernel_launcher.py:12: UserWarning: Implicit dimension choice for log_softmax has been deprecated. Change the call to include dim=X as an argument.\n",
      "  if sys.path[0] == '':\n"
     ]
    },
    {
     "name": "stdout",
     "output_type": "stream",
     "text": [
      "epoch: 1, loss: 0.01140567\n",
      "epoch: 2, loss: 0.00628077\n",
      "epoch: 3, loss: 0.00541316\n",
      "epoch: 4, loss: 0.00502096\n",
      "epoch: 5, loss: 0.00475712\n",
      "epoch: 6, loss: 0.00457129\n",
      "epoch: 7, loss: 0.00442707\n",
      "epoch: 8, loss: 0.00430085\n",
      "epoch: 9, loss: 0.00418434\n",
      "epoch: 10, loss: 0.00409677\n",
      "epoch: 11, loss: 0.00399758\n",
      "epoch: 12, loss: 0.00391401\n",
      "epoch: 13, loss: 0.00384514\n",
      "epoch: 14, loss: 0.00377757\n",
      "epoch: 15, loss: 0.00372296\n",
      "epoch: 16, loss: 0.00365672\n",
      "epoch: 17, loss: 0.00360315\n",
      "epoch: 18, loss: 0.00353193\n",
      "epoch: 19, loss: 0.00348795\n",
      "epoch: 20, loss: 0.00343997\n",
      "\n",
      "begin training...\n",
      "epoch: 1, loss: 0.00634555\n",
      "epoch: 2, loss: 0.00408973\n",
      "epoch: 3, loss: 0.00369687\n",
      "epoch: 4, loss: 0.00347295\n",
      "epoch: 5, loss: 0.00325693\n",
      "epoch: 6, loss: 0.00312746\n",
      "epoch: 7, loss: 0.00301944\n",
      "epoch: 8, loss: 0.00286660\n",
      "epoch: 9, loss: 0.00276231\n",
      "epoch: 10, loss: 0.00269594\n",
      "epoch: 11, loss: 0.00260721\n",
      "epoch: 12, loss: 0.00251307\n",
      "epoch: 13, loss: 0.00242938\n",
      "epoch: 14, loss: 0.00238045\n",
      "epoch: 15, loss: 0.00229995\n",
      "epoch: 16, loss: 0.00227001\n",
      "\n",
      "begin training...\n",
      "epoch: 1, loss: 0.00568883\n",
      "epoch: 2, loss: 0.00392804\n",
      "epoch: 3, loss: 0.00356423\n",
      "epoch: 4, loss: 0.00330213\n",
      "epoch: 5, loss: 0.00313621\n",
      "epoch: 6, loss: 0.00296830\n",
      "epoch: 7, loss: 0.00285787\n",
      "epoch: 8, loss: 0.00273998\n",
      "epoch: 9, loss: 0.00264927\n",
      "epoch: 10, loss: 0.00253939\n",
      "epoch: 11, loss: 0.00247221\n",
      "epoch: 12, loss: 0.00240879\n",
      "epoch: 13, loss: 0.00231662\n",
      "epoch: 14, loss: 0.00226814\n",
      "epoch: 15, loss: 0.00219775\n",
      "epoch: 16, loss: 0.00215588\n",
      "epoch: 17, loss: 0.00209499\n",
      "epoch: 18, loss: 0.00200510\n",
      "epoch: 19, loss: 0.00198089\n"
     ]
    }
   ],
   "source": [
    "### TRAIN MODELS ###\n",
    "n_epochs = 20\n",
    "\n",
    "model = FashionModel()\n",
    "optimizer = VanillaOptim(model.parameters())\n",
    "vtrainer = Trainer(model, optimizer)\n",
    "vtrainer.run(n_epochs)\n",
    "vtrainer.save_model('./vanilla_optimized_model.pt')\n",
    "print('')\n",
    "\n",
    "model = FashionModel()\n",
    "optimizer = MomentumOptim(model.parameters())\n",
    "mtrainer = Trainer(model, optimizer)\n",
    "mtrainer.run(n_epochs)\n",
    "mtrainer.save_model('./momentum_optimizer_model.pt')\n",
    "print('')\n",
    "\n",
    "# UNCOMMENT TO TEST YOUR ADAM IMPLEMENTATION\n",
    "model = FashionModel()\n",
    "optimizer = AdamOptim(model.parameters())\n",
    "atrainer = Trainer(model, optimizer)\n",
    "atrainer.run(n_epochs)\n",
    "atrainer.save_model('./adam_optimizer_model.pt')"
   ]
  },
  {
   "cell_type": "code",
   "execution_count": 32,
   "metadata": {},
   "outputs": [
    {
     "name": "stderr",
     "output_type": "stream",
     "text": [
      "/Users/rajatkuls/anaconda3/lib/python3.6/site-packages/ipykernel_launcher.py:12: UserWarning: Implicit dimension choice for log_softmax has been deprecated. Change the call to include dim=X as an argument.\n",
      "  if sys.path[0] == '':\n"
     ]
    },
    {
     "name": "stdout",
     "output_type": "stream",
     "text": [
      "Test accuracy of vanilla optimized model: 85.19\n",
      "Test accuracy of momentum optimized model: 87.22\n",
      "Test accuracy of adam optimized model: 87.82\n"
     ]
    }
   ],
   "source": [
    "### TEST ###\n",
    "vmodel = FashionModel()\n",
    "vmodel.load_state_dict(torch.load('./vanilla_optimized_model.pt'))\n",
    "test_acc_vanilla = inference(vmodel, test_loader, test_size)\n",
    "print(\"Test accuracy of vanilla optimized model: {0:.2f}\".format(test_acc_vanilla * 100))\n",
    "\n",
    "mmodel = FashionModel()\n",
    "mmodel.load_state_dict(torch.load('./momentum_optimizer_model.pt'))\n",
    "test_acc_momentum = inference(mmodel, test_loader, test_size)\n",
    "print(\"Test accuracy of momentum optimized model: {0:.2f}\".format(test_acc_momentum * 100))\n",
    "\n",
    "# UNCOMMENT TO TEST YOUR ADAM IMPLEMENTATION\n",
    "amodel = FashionModel()\n",
    "amodel.load_state_dict(torch.load('./adam_optimizer_model.pt'))\n",
    "test_acc_adam = inference(amodel, test_loader, test_size)\n",
    "print(\"Test accuracy of adam optimized model: {0:.2f}\".format(test_acc_adam * 100))"
   ]
  },
  {
   "cell_type": "markdown",
   "metadata": {},
   "source": [
    "## Visualization"
   ]
  },
  {
   "cell_type": "code",
   "execution_count": 33,
   "metadata": {},
   "outputs": [
    {
     "data": {
      "image/png": "[encoded data removed]",
      "text/plain": [
       "<matplotlib.figure.Figure at 0x121c72dd8>"
      ]
     },
     "metadata": {},
     "output_type": "display_data"
    },
    {
     "data": {
      "image/png": "[encoded data removed]",
      "text/plain": [
       "<matplotlib.figure.Figure at 0x121b53fd0>"
      ]
     },
     "metadata": {},
     "output_type": "display_data"
    },
    {
     "data": {
      "image/png": "[encoded data removed]",
      "text/plain": [
       "<matplotlib.figure.Figure at 0x121c0e668>"
      ]
     },
     "metadata": {},
     "output_type": "display_data"
    }
   ],
   "source": [
    "training_plot(vtrainer.metrics)\n",
    "training_plot(mtrainer.metrics)\n",
    "training_plot(atrainer.metrics)"
   ]
  },
  {
   "cell_type": "markdown",
   "metadata": {},
   "source": [
    "## Batch Normalization\n",
    "\n",
    "Batch normalization is a relatively simple but significant improvement in training neural networks. In machine learning, *covariate shift* is a phenomenon in which the covariate distribution is non-stationary over the course of training. This is a common phenomenon in online learning. When training a neural network on a fixed dataset, there is no covariate shift (excluding sample noise from minibatch approximation), but the distribution of individual node and layer activity shifts as the network parameters are updated. As an abstraction, we can consider each node's activity to be a covariate of the following nodes in the network. Thus we can think of the non-stationarity of node (and layer) activations as a sort of *internal covariate shift*. \n",
    "\n",
    "Why is internal covariate shift a problem? Each subsequent layer has to account for a shifting distribution of its inputs. For saturating non-linearities the problem becomes even more dire, as the shift in activity will more likely place the unit output in the saturated region of the non-linearity.\n",
    "\n"
   ]
  },
  {
   "cell_type": "code",
   "execution_count": null,
   "metadata": {
    "collapsed": true
   },
   "outputs": [],
   "source": []
  }
 ],
 "metadata": {
  "kernelspec": {
   "display_name": "Python 3",
   "language": "python",
   "name": "python3"
  },
  "language_info": {
   "codemirror_mode": {
    "name": "ipython",
    "version": 3
   },
   "file_extension": ".py",
   "mimetype": "text/x-python",
   "name": "python",
   "nbconvert_exporter": "python",
   "pygments_lexer": "ipython3",
   "version": "3.6.2"
  }
 },
 "nbformat": 4,
 "nbformat_minor": 2
}
