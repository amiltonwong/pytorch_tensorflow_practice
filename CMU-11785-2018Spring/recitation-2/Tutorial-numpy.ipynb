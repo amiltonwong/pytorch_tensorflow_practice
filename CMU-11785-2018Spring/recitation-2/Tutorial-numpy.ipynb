{
 "cells": [
  {
   "cell_type": "markdown",
   "metadata": {},
   "source": [
    "# Numpy Tutorial"
   ]
  },
  {
   "cell_type": "markdown",
   "metadata": {},
   "source": [
    "`numpy` is the core python package for CPU computations on arrays. It is the package for managing arrays that is used by other packages such as `pytorch`, `tensorflow` or `scipy`.\n",
    "\n",
    "For the official Numpy tutorial, see https://docs.scipy.org/doc/numpy-dev/user/quickstart.html"
   ]
  },
  {
   "cell_type": "code",
   "execution_count": 5,
   "metadata": {},
   "outputs": [],
   "source": [
    "import numpy as np  # standard practice is to name package `np`"
   ]
  },
  {
   "cell_type": "markdown",
   "metadata": {},
   "source": [
    "## Creating Numpy Arrays"
   ]
  },
  {
   "cell_type": "markdown",
   "metadata": {},
   "source": [
    "Create arrays from an n-d list using `np.array`"
   ]
  },
  {
   "cell_type": "code",
   "execution_count": 6,
   "metadata": {},
   "outputs": [
    {
     "name": "stdout",
     "output_type": "stream",
     "text": [
      "[4 5 6 7]\n"
     ]
    }
   ],
   "source": [
    "x = np.array([4,5,6,7])\n",
    "print(x)"
   ]
  },
  {
   "cell_type": "code",
   "execution_count": 7,
   "metadata": {},
   "outputs": [
    {
     "name": "stdout",
     "output_type": "stream",
     "text": [
      "[[3 4 2]\n",
      " [5 6 7]]\n"
     ]
    }
   ],
   "source": [
    "x = np.array([[3,4,2], [5,6,7]])\n",
    "print(x)"
   ]
  },
  {
   "cell_type": "markdown",
   "metadata": {},
   "source": [
    "Generate random data using functions in `np.random`. It is best practice to seed numpy for consistent results."
   ]
  },
  {
   "cell_type": "code",
   "execution_count": 8,
   "metadata": {},
   "outputs": [
    {
     "name": "stdout",
     "output_type": "stream",
     "text": [
      "[ 0.69646919  0.28613933  0.22685145  0.55131477  0.71946897  0.42310646\n",
      "  0.9807642   0.68482974  0.4809319 ]\n",
      "[1 0 2 0 1 2 1 0 0 0]\n"
     ]
    }
   ],
   "source": [
    "np.random.seed(123)\n",
    "print(np.random.random((9,))) # uniform random 0-1\n",
    "print(np.random.randint(0,3,(10,))) # random integers [0,1,2]"
   ]
  },
  {
   "cell_type": "markdown",
   "metadata": {},
   "source": [
    "Create special arrays using numpy functions"
   ]
  },
  {
   "cell_type": "code",
   "execution_count": 9,
   "metadata": {},
   "outputs": [
    {
     "name": "stdout",
     "output_type": "stream",
     "text": [
      "[[ 1.  0.  0.  0.]\n",
      " [ 0.  1.  0.  0.]\n",
      " [ 0.  0.  1.  0.]\n",
      " [ 0.  0.  0.  1.]]\n"
     ]
    }
   ],
   "source": [
    "print(np.eye(4))  # Identity matrix"
   ]
  },
  {
   "cell_type": "code",
   "execution_count": 10,
   "metadata": {},
   "outputs": [
    {
     "name": "stdout",
     "output_type": "stream",
     "text": [
      "[[ 0.  0.  0.  0.]\n",
      " [ 0.  0.  0.  0.]]\n"
     ]
    }
   ],
   "source": [
    "print(np.zeros((2,4)))  # n-d zeros matrix"
   ]
  },
  {
   "cell_type": "code",
   "execution_count": 11,
   "metadata": {},
   "outputs": [
    {
     "name": "stdout",
     "output_type": "stream",
     "text": [
      "[[ 1.  1.]\n",
      " [ 1.  1.]\n",
      " [ 1.  1.]]\n"
     ]
    }
   ],
   "source": [
    "print(np.ones((3,2)))  # n-d ones matrix"
   ]
  },
  {
   "cell_type": "code",
   "execution_count": 12,
   "metadata": {},
   "outputs": [
    {
     "name": "stdout",
     "output_type": "stream",
     "text": [
      "[0 1 2 3 4 5]\n"
     ]
    }
   ],
   "source": [
    "print(np.arange(6))  # 1-d matrix of a range"
   ]
  },
  {
   "cell_type": "markdown",
   "metadata": {},
   "source": [
    "All arrays have properties `dtype` and `shape`. You will probably use `np.int32` or `np.float32` for most situations."
   ]
  },
  {
   "cell_type": "code",
   "execution_count": 13,
   "metadata": {},
   "outputs": [
    {
     "name": "stdout",
     "output_type": "stream",
     "text": [
      "(2, 4)\n",
      "int32\n"
     ]
    }
   ],
   "source": [
    "x = np.zeros(shape=(2,4), dtype=np.int32)\n",
    "print(x.shape)\n",
    "print(x.dtype)"
   ]
  },
  {
   "cell_type": "markdown",
   "metadata": {},
   "source": [
    "## Indexing Arrays"
   ]
  },
  {
   "cell_type": "markdown",
   "metadata": {},
   "source": [
    "Numpy arrays may be indexed by a single number, a slice, or an array of integers"
   ]
  },
  {
   "cell_type": "code",
   "execution_count": 14,
   "metadata": {},
   "outputs": [
    {
     "name": "stdout",
     "output_type": "stream",
     "text": [
      "[ 0  1  4  9 16 25 36 49 64 81]\n"
     ]
    }
   ],
   "source": [
    "# Create our matrix\n",
    "x = np.arange(10) ** 2\n",
    "print(x)"
   ]
  },
  {
   "cell_type": "code",
   "execution_count": 15,
   "metadata": {},
   "outputs": [
    {
     "name": "stdout",
     "output_type": "stream",
     "text": [
      "9\n"
     ]
    }
   ],
   "source": [
    "# Index a single value\n",
    "print(x[3])"
   ]
  },
  {
   "cell_type": "code",
   "execution_count": 16,
   "metadata": {},
   "outputs": [
    {
     "name": "stdout",
     "output_type": "stream",
     "text": [
      "[ 1  4  9 16]\n",
      "[0 1 4 9]\n",
      "[25 36 49 64 81]\n",
      "[81 64 49 36 25 16  9  4  1  0]\n",
      "[64 49 36 25 16  9  4]\n",
      "[ 0  4 16 36 64]\n",
      "[ 0  1  4  9 16 25 36 49 64 81]\n"
     ]
    }
   ],
   "source": [
    "# Index using slices\n",
    "print(x[1:5])  # range\n",
    "print(x[:4])  # implicit start\n",
    "print(x[5:]) # implicit end\n",
    "print(x[::-1]) # all reversed\n",
    "print(x[8:1:-1]) # reversed slice\n",
    "print(x[::2]) # every other\n",
    "print(x[:]) # no-op (but useful syntax when dealing with n-d arrays)"
   ]
  },
  {
   "cell_type": "code",
   "execution_count": 17,
   "metadata": {},
   "outputs": [
    {
     "name": "stdout",
     "output_type": "stream",
     "text": [
      "[4 1 7 3 2]\n",
      "[16  1 49  9  4]\n"
     ]
    }
   ],
   "source": [
    "# Index using an array\n",
    "i = np.random.randint(0, 10, (5,)) # random ints [0-9]\n",
    "print(i)\n",
    "print(x[i])  # index by array"
   ]
  },
  {
   "cell_type": "markdown",
   "metadata": {},
   "source": [
    "N-d arrays may be indexed by combinations of the above options."
   ]
  },
  {
   "cell_type": "code",
   "execution_count": 18,
   "metadata": {},
   "outputs": [
    {
     "name": "stdout",
     "output_type": "stream",
     "text": [
      "[[ 0.08372648  0.71233018  0.42786349  0.2977805   0.49208478]\n",
      " [ 0.74029639  0.35772892  0.41720995  0.65472131  0.37380143]]\n",
      "(2, 5)\n",
      "[[ 0.65472131  0.37380143  0.41720995]\n",
      " [ 0.2977805   0.49208478  0.42786349]]\n",
      "(2, 3)\n"
     ]
    }
   ],
   "source": [
    "x=np.random.random((2,5))\n",
    "y=x[::-1, [3,4,2]] # reverse first dimension and take second dimension at 3, 4 and 2\n",
    "print(x)\n",
    "print(x.shape)\n",
    "print(y)\n",
    "print(y.shape)"
   ]
  },
  {
   "cell_type": "markdown",
   "metadata": {},
   "source": [
    "Same indexing syntax can be used for getting and setting values"
   ]
  },
  {
   "cell_type": "code",
   "execution_count": 19,
   "metadata": {},
   "outputs": [
    {
     "name": "stdout",
     "output_type": "stream",
     "text": [
      "[[ 0.  1.]\n",
      " [ 0.  0.]\n",
      " [ 0.  0.]\n",
      " [ 2.  2.]]\n"
     ]
    }
   ],
   "source": [
    "# set values using indexing syntax\n",
    "x = np.zeros((4,2))\n",
    "x[0,1] = 1\n",
    "x[3,:] = 2\n",
    "print(x)"
   ]
  },
  {
   "cell_type": "code",
   "execution_count": 20,
   "metadata": {},
   "outputs": [
    {
     "name": "stdout",
     "output_type": "stream",
     "text": [
      "[[ 0.  0.  0.  0.  0.]\n",
      " [ 0.  1.  2.  3.  4.]\n",
      " [ 0.  0.  0.  0.  0.]]\n"
     ]
    }
   ],
   "source": [
    "# when setting multiple values, shapes must be the same (or broadcastable, see below)\n",
    "x = np.zeros((3,5))\n",
    "x[1,:] = np.arange(5)\n",
    "print(x)"
   ]
  },
  {
   "cell_type": "markdown",
   "metadata": {},
   "source": [
    "## Conditional Indexing"
   ]
  },
  {
   "cell_type": "markdown",
   "metadata": {},
   "source": [
    "There are several ways to search an array or index an array using conditions"
   ]
  },
  {
   "cell_type": "code",
   "execution_count": 21,
   "metadata": {},
   "outputs": [
    {
     "name": "stdout",
     "output_type": "stream",
     "text": [
      "[ 0.69646919  0.28613933  0.22685145  0.55131477  0.71946897  0.42310646\n",
      "  0.9807642   0.68482974  0.4809319   0.39211752]\n",
      "[ True False False  True  True False  True  True False False]\n",
      "[ 0.69646919  0.55131477  0.71946897  0.9807642   0.68482974]\n"
     ]
    }
   ],
   "source": [
    "# Simple syntax\n",
    "np.random.seed(123)\n",
    "x=np.random.random((10,))\n",
    "print(x)\n",
    "print(x>0.5)\n",
    "print(x[x>0.5])"
   ]
  },
  {
   "cell_type": "code",
   "execution_count": 22,
   "metadata": {},
   "outputs": [
    {
     "name": "stdout",
     "output_type": "stream",
     "text": [
      "[ 0.69646919  0.28613933  0.22685145  0.55131477  0.71946897  0.42310646\n",
      "  0.9807642   0.68482974  0.4809319   0.39211752]\n",
      "[0 3 4 6 7]\n",
      "[ 0.69646919  0.55131477  0.71946897  0.9807642   0.68482974]\n"
     ]
    }
   ],
   "source": [
    "# Complicated syntax (necessary in some situations)\n",
    "np.random.seed(123)\n",
    "x=np.random.random((10,))\n",
    "print(x)\n",
    "print(np.nonzero(x>0.5)[0])\n",
    "print(np.take(x, np.nonzero(x>0.5)[0], axis=0))"
   ]
  },
  {
   "cell_type": "markdown",
   "metadata": {},
   "source": [
    "## Special Indexing"
   ]
  },
  {
   "cell_type": "markdown",
   "metadata": {},
   "source": [
    "Numpy provides helpers for certain common indexing operations"
   ]
  },
  {
   "cell_type": "code",
   "execution_count": 23,
   "metadata": {},
   "outputs": [
    {
     "name": "stdout",
     "output_type": "stream",
     "text": [
      "[[ 0.34317802  0.72904971  0.43857224  0.0596779   0.39804426]\n",
      " [ 0.73799541  0.18249173  0.17545176  0.53155137  0.53182759]\n",
      " [ 0.63440096  0.84943179  0.72445532  0.61102351  0.72244338]\n",
      " [ 0.32295891  0.36178866  0.22826323  0.29371405  0.63097612]\n",
      " [ 0.09210494  0.43370117  0.43086276  0.4936851   0.42583029]]\n",
      "[ 0.34317802  0.18249173  0.72445532  0.29371405  0.42583029]\n"
     ]
    }
   ],
   "source": [
    "# Create a random matrix\n",
    "x = np.random.random((5,5)) \n",
    "print(x)\n",
    "# Get diagonal elements\n",
    "print(np.diag(x))"
   ]
  },
  {
   "cell_type": "code",
   "execution_count": 24,
   "metadata": {},
   "outputs": [
    {
     "name": "stdout",
     "output_type": "stream",
     "text": [
      "[[ 0.31226122  0.42635131  0.89338916  0.94416002  0.50183668]\n",
      " [ 0.62395295  0.1156184   0.31728548  0.41482621  0.86630916]\n",
      " [ 0.25045537  0.48303426  0.98555979  0.51948512  0.61289453]\n",
      " [ 0.12062867  0.8263408   0.60306013  0.54506801  0.34276383]\n",
      " [ 0.30412079  0.41702221  0.68130077  0.87545684  0.51042234]]\n",
      "(array([1, 2, 2, 3, 3, 3, 4, 4, 4, 4]), array([0, 0, 1, 0, 1, 2, 0, 1, 2, 3]))\n",
      "[ 0.62395295  0.25045537  0.48303426  0.12062867  0.8263408   0.60306013\n",
      "  0.30412079  0.41702221  0.68130077  0.87545684]\n",
      "[[ 0.31226122  0.42635131  0.89338916  0.94416002  0.50183668]\n",
      " [ 3.          0.1156184   0.31728548  0.41482621  0.86630916]\n",
      " [ 3.          3.          0.98555979  0.51948512  0.61289453]\n",
      " [ 3.          3.          3.          0.54506801  0.34276383]\n",
      " [ 3.          3.          3.          3.          0.51042234]]\n"
     ]
    }
   ],
   "source": [
    "# Create a random matrix\n",
    "x = np.random.random((5,5)) \n",
    "print(x)\n",
    "# Get lower-trianglular indices\n",
    "tril = np.tril_indices(5, -1)  # lower triangle indices for 5x5 matrix, 1 below diagonal\n",
    "print(tril)\n",
    "# Get lower triangle\n",
    "print(x[tril])\n",
    "# Set lower triangle\n",
    "x[tril] = 3\n",
    "print(x)"
   ]
  },
  {
   "cell_type": "code",
   "execution_count": 25,
   "metadata": {},
   "outputs": [
    {
     "name": "stdout",
     "output_type": "stream",
     "text": [
      "[[[0 0 0 0]\n",
      "  [1 1 1 1]\n",
      "  [2 2 2 2]\n",
      "  [3 3 3 3]\n",
      "  [4 4 4 4]]\n",
      "\n",
      " [[0 1 2 3]\n",
      "  [0 1 2 3]\n",
      "  [0 1 2 3]\n",
      "  [0 1 2 3]\n",
      "  [0 1 2 3]]]\n",
      "[[[ 0.  1.  0.]\n",
      "  [ 0.  0.  1.]\n",
      "  [ 1.  0.  0.]\n",
      "  [ 0.  0.  1.]]\n",
      "\n",
      " [[ 0.  0.  1.]\n",
      "  [ 0.  1.  0.]\n",
      "  [ 0.  0.  1.]\n",
      "  [ 0.  0.  1.]]\n",
      "\n",
      " [[ 0.  1.  0.]\n",
      "  [ 0.  0.  1.]\n",
      "  [ 1.  0.  0.]\n",
      "  [ 0.  0.  1.]]\n",
      "\n",
      " [[ 0.  0.  1.]\n",
      "  [ 0.  1.  0.]\n",
      "  [ 0.  1.  0.]\n",
      "  [ 0.  0.  1.]]\n",
      "\n",
      " [[ 0.  0.  1.]\n",
      "  [ 1.  0.  0.]\n",
      "  [ 0.  1.  0.]\n",
      "  [ 0.  1.  0.]]]\n"
     ]
    }
   ],
   "source": [
    "# Use mgrid to create one-hot variables\n",
    "x = np.zeros((5,4,3)) # matrix of shape (5,4,3)\n",
    "i = np.random.randint(0,3,(5,4,))  # ints of shape (5,4)\n",
    "mgrid = np.mgrid[:5,:4] # indices for first two dimensions\n",
    "x[mgrid[0], mgrid[1],[i]] = 1\n",
    "print(mgrid)\n",
    "print(x)"
   ]
  },
  {
   "cell_type": "markdown",
   "metadata": {},
   "source": [
    "## Reshaping"
   ]
  },
  {
   "cell_type": "code",
   "execution_count": 26,
   "metadata": {},
   "outputs": [
    {
     "name": "stdout",
     "output_type": "stream",
     "text": [
      "[ 0.59443188  0.55678519  0.15895964  0.15307052  0.69552953  0.31876643]\n",
      "[[ 0.59443188  0.55678519]\n",
      " [ 0.15895964  0.15307052]\n",
      " [ 0.69552953  0.31876643]]\n",
      "[[ 0.59443188  0.55678519  0.15895964]\n",
      " [ 0.15307052  0.69552953  0.31876643]]\n"
     ]
    }
   ],
   "source": [
    "# Arrays are reshaped keeping row-major order\n",
    "x=np.random.random((6,))\n",
    "print(x)\n",
    "print(np.reshape(x, (3,2)))  # total size must be unchanged\n",
    "print(np.reshape(x, (2,-1)))  # determine last axis based on total size and first axis"
   ]
  },
  {
   "cell_type": "code",
   "execution_count": 27,
   "metadata": {},
   "outputs": [
    {
     "name": "stdout",
     "output_type": "stream",
     "text": [
      "[[ 0.6919703   0.55438325  0.38895057]\n",
      " [ 0.92513249  0.84167     0.35739757]]\n",
      "[[ 0.6919703   0.92513249]\n",
      " [ 0.55438325  0.84167   ]\n",
      " [ 0.38895057  0.35739757]]\n",
      "[[ 0.6919703   0.92513249]\n",
      " [ 0.55438325  0.84167   ]\n",
      " [ 0.38895057  0.35739757]]\n"
     ]
    }
   ],
   "source": [
    "# Arrays can be transposed easily\n",
    "x=np.random.random((2,3))\n",
    "print(x)\n",
    "print(x.T) # simple transpose\n",
    "print(np.transpose(x, (1,0))) # syntax for multiple dimensions"
   ]
  },
  {
   "cell_type": "code",
   "execution_count": 28,
   "metadata": {},
   "outputs": [
    {
     "name": "stdout",
     "output_type": "stream",
     "text": [
      "(2, 1, 3, 1)\n",
      "(2, 3)\n"
     ]
    }
   ],
   "source": [
    "# Special functions for adding and removing dims\n",
    "x=np.random.random((2,3,1))\n",
    "print(np.expand_dims(x, 1).shape)  # add a new dimension\n",
    "print(np.squeeze(x,2).shape)  # remove a dimension (must be size of 1)"
   ]
  },
  {
   "cell_type": "markdown",
   "metadata": {},
   "source": [
    "## Combining Arrays"
   ]
  },
  {
   "cell_type": "code",
   "execution_count": 29,
   "metadata": {},
   "outputs": [
    {
     "name": "stdout",
     "output_type": "stream",
     "text": [
      "[[ 0.  1.  1.  0.  0.]\n",
      " [ 0.  1.  1.  0.  0.]\n",
      " [ 0.  1.  1.  0.  0.]]\n"
     ]
    }
   ],
   "source": [
    "# concatenation\n",
    "# - arbitrary number of arrays\n",
    "# - all but `axis` must match\n",
    "print(np.concatenate([np.zeros((3,1)), np.ones((3,2)), np.zeros((3,2))], axis=1))"
   ]
  },
  {
   "cell_type": "code",
   "execution_count": 30,
   "metadata": {},
   "outputs": [
    {
     "name": "stdout",
     "output_type": "stream",
     "text": [
      "[[ 0.          0.        ]\n",
      " [ 0.76254781  0.59317692]]\n"
     ]
    }
   ],
   "source": [
    "# stacking\n",
    "# - new axis is created\n",
    "# - all axes must match\n",
    "print(np.stack([np.zeros((2,)), np.random.random((2,))], axis=0))"
   ]
  },
  {
   "cell_type": "markdown",
   "metadata": {},
   "source": [
    "## Math and Linear Algebra"
   ]
  },
  {
   "cell_type": "markdown",
   "metadata": {},
   "source": [
    "Basic math operators (`+`, `-`, etc.) are overridden with array-based counterparts. Numpy also provides a variety of basic math and linear algebra functions (see docs for specific functions)."
   ]
  },
  {
   "cell_type": "code",
   "execution_count": 31,
   "metadata": {},
   "outputs": [
    {
     "name": "stdout",
     "output_type": "stream",
     "text": [
      "[[ 0.6917018   0.15112745  0.39887629  0.2408559   0.34345601]\n",
      " [ 0.51312815  0.66662455  0.10590849  0.13089495  0.32198061]\n",
      " [ 0.66156434  0.84650623  0.55325734  0.85445249  0.38483781]]\n",
      "[[ 0.3167879   0.35426468]\n",
      " [ 0.17108183  0.82911263]\n",
      " [ 0.33867085  0.55237008]\n",
      " [ 0.57855147  0.52153306]\n",
      " [ 0.00268806  0.98834542]]\n",
      "[[ 0.1007552   0.02201364  0.05810142  0.03508374  0.05002875]\n",
      " [ 0.07474367  0.09710238  0.01542692  0.01906652  0.04690059]\n",
      " [ 0.09636529  0.12330444  0.08058899  0.12446191  0.05605654]]\n",
      "0.457678160509\n",
      "[[ 0.47845138  0.02283951  0.1591023   0.05801156  0.11796203]\n",
      " [ 0.2633005   0.44438829  0.01121661  0.01713349  0.10367151]\n",
      " [ 0.43766737  0.71657279  0.30609369  0.73008905  0.14810014]]\n",
      "[[ 0.83168612  0.38875114  0.63156654  0.49077072  0.5860512 ]\n",
      " [ 0.71632964  0.81647079  0.32543584  0.36179407  0.56743335]\n",
      " [ 0.81336605  0.92005773  0.74381271  0.92436599  0.62035297]]\n",
      "[[ 0.52033646  1.05574201]\n",
      " [ 0.38906322  1.1794848 ]\n",
      " [ 1.03714875  2.06779859]]\n"
     ]
    }
   ],
   "source": [
    "x = np.random.random((3,5))\n",
    "y = np.random.random((5,2))\n",
    "print(x)\n",
    "print(y)\n",
    "print(x / np.sum(x))\n",
    "print(np.mean(x))\n",
    "print(np.square(x))\n",
    "print(np.sqrt(x))\n",
    "print(np.dot(x, y))"
   ]
  },
  {
   "cell_type": "markdown",
   "metadata": {},
   "source": [
    "## Broadcasting"
   ]
  },
  {
   "cell_type": "markdown",
   "metadata": {},
   "source": [
    "Broadcasting rules are important to understand. These are the rules by which arrays with different shapes combine."
   ]
  },
  {
   "cell_type": "code",
   "execution_count": 32,
   "metadata": {},
   "outputs": [
    {
     "name": "stdout",
     "output_type": "stream",
     "text": [
      "[ 0.3  1.3]\n",
      "[[  0.     1.01   2.02   3.03]\n",
      " [  4.     5.01   6.02   7.03]\n",
      " [  8.     9.01  10.02  11.03]]\n",
      "[[[ 0.    1.01  2.02  3.03]\n",
      "  [ 4.04  5.05  6.06  7.07]]\n",
      "\n",
      " [[ 0.08  1.09  2.1   3.11]\n",
      "  [ 4.12  5.13  6.14  7.15]]\n",
      "\n",
      " [[ 0.16  1.17  2.18  3.19]\n",
      "  [ 4.2   5.21  6.22  7.23]]]\n",
      "[[[ 0.    1.01]\n",
      "  [ 0.02  1.03]\n",
      "  [ 0.04  1.05]]\n",
      "\n",
      " [[ 2.06  3.07]\n",
      "  [ 2.08  3.09]\n",
      "  [ 2.1   3.11]]\n",
      "\n",
      " [[ 4.12  5.13]\n",
      "  [ 4.14  5.15]\n",
      "  [ 4.16  5.17]]]\n"
     ]
    }
   ],
   "source": [
    "# arrays must have same ending dimensions or size of 1 to broadcast\n",
    "print(np.arange(2)+0.3)\n",
    "print(np.arange(12).reshape((3,4))+0.01*np.arange(4))\n",
    "print(np.arange(8).reshape((2,4))+0.01*np.arange(24).reshape((3,2,4)))\n",
    "print(np.arange(6).reshape((3,1,2))+0.01*np.arange(18).reshape((3,3,2)))"
   ]
  },
  {
   "cell_type": "code",
   "execution_count": 33,
   "metadata": {},
   "outputs": [
    {
     "name": "stdout",
     "output_type": "stream",
     "text": [
      "operands could not be broadcast together with shapes (3,3,4) (3,2,4) \n"
     ]
    }
   ],
   "source": [
    "# mismatched dimensions cause an error\n",
    "try:\n",
    "  x=np.random.random((3,3,4))+np.random.random((3,2,4))\n",
    "except ValueError as e:\n",
    "  print(e)"
   ]
  },
  {
   "cell_type": "markdown",
   "metadata": {},
   "source": [
    "## Saving and Loading"
   ]
  },
  {
   "cell_type": "markdown",
   "metadata": {},
   "source": [
    "Numpy provides functions for saving and loading arrays"
   ]
  },
  {
   "cell_type": "code",
   "execution_count": 34,
   "metadata": {},
   "outputs": [
    {
     "name": "stdout",
     "output_type": "stream",
     "text": [
      "[ 0.56221838  0.12224355  0.2013995   0.81164435  0.46798757]\n",
      "[ 0.56221838  0.12224355  0.2013995   0.81164435  0.46798757]\n"
     ]
    }
   ],
   "source": [
    "# Save single array\n",
    "x = np.random.random((5,))\n",
    "print(x)\n",
    "np.save('tmp.npy', x)\n",
    "y=np.load('tmp.npy')\n",
    "print(y)"
   ]
  },
  {
   "cell_type": "code",
   "execution_count": 35,
   "metadata": {},
   "outputs": [
    {
     "name": "stdout",
     "output_type": "stream",
     "text": [
      "[ 0.80793821  0.00742638]\n",
      "[ 0.55159273  0.93193215  0.58217546]\n",
      "[ 0.80793821  0.00742638]\n",
      "[ 0.55159273  0.93193215  0.58217546]\n"
     ]
    }
   ],
   "source": [
    "# Save dictionary of arrays\n",
    "x1 = np.random.random((2,))\n",
    "y1 = np.random.random((3,))\n",
    "print(x1)\n",
    "print(y1)\n",
    "np.savez('tmp.npz', x=x1, y=y1)\n",
    "data=np.load('tmp.npz')\n",
    "print(data['x'])\n",
    "print(data['y'])"
   ]
  }
 ],
 "metadata": {
  "kernelspec": {
   "display_name": "Python 3",
   "language": "python",
   "name": "python3"
  },
  "language_info": {
   "codemirror_mode": {
    "name": "ipython",
    "version": 3
   },
   "file_extension": ".py",
   "mimetype": "text/x-python",
   "name": "python",
   "nbconvert_exporter": "python",
   "pygments_lexer": "ipython3",
   "version": "3.5.2"
  }
 },
 "nbformat": 4,
 "nbformat_minor": 2
}
