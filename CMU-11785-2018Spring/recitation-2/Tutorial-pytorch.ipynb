{
 "cells": [
  {
   "cell_type": "markdown",
   "metadata": {},
   "source": [
    "# Pytorch Tutorial"
   ]
  },
  {
   "cell_type": "markdown",
   "metadata": {},
   "source": [
    "Pytorch is a python framework for machine learning\n",
    "\n",
    "- GPU-accelerated computations\n",
    "- automatic differentiation\n",
    "- modules for neural networks\n",
    "\n",
    "This tutorial will teach you the fundamentals of operating on pytorch tensors. For a worked example of how to build and train a pytorch network, see `pytorch-example.py`.\n",
    "\n",
    "For additional tutorials, see http://pytorch.org/tutorials/"
   ]
  },
  {
   "cell_type": "code",
   "execution_count": 26,
   "metadata": {},
   "outputs": [],
   "source": [
    "import torch\n",
    "import numpy as np\n",
    "from torch.autograd import Variable"
   ]
  },
  {
   "cell_type": "markdown",
   "metadata": {},
   "source": [
    "## Tensors"
   ]
  },
  {
   "cell_type": "markdown",
   "metadata": {},
   "source": [
    "Tensors are the fundamental object for array data. The most common types you will use are `IntTensor` and `FloatTensor`."
   ]
  },
  {
   "cell_type": "code",
   "execution_count": 27,
   "metadata": {},
   "outputs": [
    {
     "name": "stdout",
     "output_type": "stream",
     "text": [
      "\n",
      " 1.4406e+06  4.5734e-41 -6.3731e-27\n",
      " 4.5733e-41  1.3011e-37  0.0000e+00\n",
      "[torch.FloatTensor of size 2x3]\n",
      "\n",
      "\n",
      " 0  0  0\n",
      " 0  0  0\n",
      "[torch.FloatTensor of size 2x3]\n",
      "\n"
     ]
    }
   ],
   "source": [
    "# Create uninitialized tensor\n",
    "x = torch.FloatTensor(2,3)\n",
    "print(x)\n",
    "# Initialize to zeros\n",
    "x.zero_()\n",
    "print(x)"
   ]
  },
  {
   "cell_type": "code",
   "execution_count": 28,
   "metadata": {},
   "outputs": [
    {
     "name": "stdout",
     "output_type": "stream",
     "text": [
      "\n",
      " 0.6965  0.2861  0.2269\n",
      " 0.5513  0.7195  0.4231\n",
      "[torch.FloatTensor of size 2x3]\n",
      "\n",
      "\n",
      " 0.6965  0.2861  0.2269\n",
      " 0.5513  0.7195  0.4231\n",
      "[torch.DoubleTensor of size 2x3]\n",
      "\n"
     ]
    }
   ],
   "source": [
    "# Create from numpy array (seed for repeatability)\n",
    "np.random.seed(123)\n",
    "np_array = np.random.random((2,3))\n",
    "print(torch.FloatTensor(np_array))\n",
    "print(torch.from_numpy(np_array))"
   ]
  },
  {
   "cell_type": "code",
   "execution_count": 29,
   "metadata": {},
   "outputs": [
    {
     "name": "stdout",
     "output_type": "stream",
     "text": [
      "\n",
      "-0.5214 -1.4914 -0.2381\n",
      " 1.0306  0.2221  1.5162\n",
      "[torch.FloatTensor of size 2x3]\n",
      "\n"
     ]
    }
   ],
   "source": [
    "# Create random tensor (seed for repeatability)\n",
    "torch.manual_seed(123)\n",
    "x=torch.randn(2,3)\n",
    "print(x)"
   ]
  },
  {
   "cell_type": "code",
   "execution_count": 30,
   "metadata": {},
   "outputs": [
    {
     "name": "stdout",
     "output_type": "stream",
     "text": [
      "\n",
      " 1  0  0\n",
      " 0  1  0\n",
      " 0  0  1\n",
      "[torch.FloatTensor of size 3x3]\n",
      "\n",
      "\n",
      " 1  1  1\n",
      " 1  1  1\n",
      "[torch.FloatTensor of size 2x3]\n",
      "\n",
      "\n",
      " 0  0  0\n",
      " 0  0  0\n",
      "[torch.FloatTensor of size 2x3]\n",
      "\n",
      "\n",
      " 0\n",
      " 1\n",
      " 2\n",
      "[torch.FloatTensor of size 3]\n",
      "\n"
     ]
    }
   ],
   "source": [
    "# special tensors (see documentation)\n",
    "print(torch.eye(3))\n",
    "print(torch.ones(2,3))\n",
    "print(torch.zeros(2,3))\n",
    "print(torch.arange(0,3))"
   ]
  },
  {
   "cell_type": "markdown",
   "metadata": {},
   "source": [
    "All tensors have a `size` and `type`"
   ]
  },
  {
   "cell_type": "code",
   "execution_count": 31,
   "metadata": {},
   "outputs": [
    {
     "name": "stdout",
     "output_type": "stream",
     "text": [
      "torch.Size([3, 4])\n",
      "torch.FloatTensor\n"
     ]
    }
   ],
   "source": [
    "x=torch.FloatTensor(3,4)\n",
    "print(x.size())\n",
    "print(x.type())"
   ]
  },
  {
   "cell_type": "markdown",
   "metadata": {},
   "source": [
    "## CPU and GPU"
   ]
  },
  {
   "cell_type": "markdown",
   "metadata": {},
   "source": [
    "Tensors can be copied between CPU and GPU. It is important that everything involved in a calculation is on the same device. \n",
    "\n",
    "This portion of the tutorial may not work for you if you do not have a GPU available."
   ]
  },
  {
   "cell_type": "code",
   "execution_count": 32,
   "metadata": {},
   "outputs": [
    {
     "name": "stdout",
     "output_type": "stream",
     "text": [
      "\n",
      " 0.5513  0.7192\n",
      " 0.7195  0.4911\n",
      " 0.4231  0.7800\n",
      "[torch.FloatTensor of size 3x2]\n",
      "\n",
      "\n",
      " 0.5513  0.7192\n",
      " 0.7195  0.4911\n",
      " 0.4231  0.7800\n",
      "[torch.cuda.FloatTensor of size 3x2 (GPU 0)]\n",
      "\n",
      "\n",
      " 0.5513  0.7192\n",
      " 0.7195  0.4911\n",
      " 0.4231  0.7800\n",
      "[torch.FloatTensor of size 3x2]\n",
      "\n",
      "[[ 0.55131477  0.7191503 ]\n",
      " [ 0.71946895  0.49111894]\n",
      " [ 0.42310646  0.78002775]]\n",
      "can't convert CUDA tensor to numpy (it doesn't support GPU arrays). Use .cpu() to move the tensor to host memory first.\n"
     ]
    }
   ],
   "source": [
    "# create a tensor\n",
    "x = torch.rand(3,2)\n",
    "print(x)\n",
    "# copy to GPU\n",
    "y = x.cuda()\n",
    "print(y)\n",
    "# copy back to CPU\n",
    "z = y.cpu()\n",
    "print(z)\n",
    "# get CPU tensor as numpy array\n",
    "print(z.numpy())\n",
    "# cannot get GPU tensor as numpy array directly\n",
    "try:\n",
    "  y.numpy()\n",
    "except RuntimeError as e:\n",
    "  print(e)"
   ]
  },
  {
   "cell_type": "markdown",
   "metadata": {},
   "source": [
    "Operations between GPU and CPU tensors will fail. Operations require all arguments to be on the same device."
   ]
  },
  {
   "cell_type": "code",
   "execution_count": 33,
   "metadata": {},
   "outputs": [
    {
     "name": "stdout",
     "output_type": "stream",
     "text": [
      "torch.mm received an invalid combination of arguments - got (torch.FloatTensor, torch.cuda.FloatTensor), but expected one of:\n",
      " * (torch.FloatTensor source, torch.FloatTensor mat2)\n",
      "      didn't match because some of the arguments have invalid types: (\u001b[32;1mtorch.FloatTensor\u001b[0m, \u001b[31;1mtorch.cuda.FloatTensor\u001b[0m)\n",
      " * (torch.SparseFloatTensor source, torch.FloatTensor mat2)\n",
      "      didn't match because some of the arguments have invalid types: (\u001b[31;1mtorch.FloatTensor\u001b[0m, \u001b[31;1mtorch.cuda.FloatTensor\u001b[0m)\n",
      "\n"
     ]
    }
   ],
   "source": [
    "x = torch.rand(3,5)  # CPU tensor\n",
    "y = torch.rand(5,4).cuda()  # GPU tensor\n",
    "try:\n",
    "  torch.mm(x,y)  # Operation between CPU and GPU fails\n",
    "except TypeError as e:\n",
    "  print(e)"
   ]
  },
  {
   "cell_type": "markdown",
   "metadata": {},
   "source": [
    "Typical code should include `if` statements or utilize helper functions so it can operate with or without the GPU."
   ]
  },
  {
   "cell_type": "code",
   "execution_count": 34,
   "metadata": {},
   "outputs": [],
   "source": [
    "# Put tensor on CUDA if available\n",
    "x = torch.rand(3,2)\n",
    "if torch.cuda.is_available():\n",
    "  x = x.cuda()\n",
    "\n",
    "# Do some calculations\n",
    "y = x ** 2 \n",
    "\n",
    "# Copy to CPU if on GPU\n",
    "if y.is_cuda:\n",
    "  y = y.cpu()"
   ]
  },
  {
   "cell_type": "markdown",
   "metadata": {},
   "source": [
    "A convenient method is `new`, which creates a new tensor on the same device as another tensor. It should be used for creating tensors whenever possible."
   ]
  },
  {
   "cell_type": "code",
   "execution_count": 35,
   "metadata": {},
   "outputs": [
    {
     "name": "stdout",
     "output_type": "stream",
     "text": [
      "\n",
      " 1.4406e+06  4.5734e-41\n",
      "[torch.FloatTensor of size 1x2]\n",
      "\n",
      "\n",
      " 0.1280  0.5219\n",
      "[torch.cuda.FloatTensor of size 1x2 (GPU 0)]\n",
      "\n"
     ]
    }
   ],
   "source": [
    "x1 = torch.rand(3,2)\n",
    "x2 = x1.new(1,2)  # create cpu tensor\n",
    "print(x2)\n",
    "x1 = torch.rand(3,2).cuda()\n",
    "x2 = x1.new(1,2)  # create cuda tensor\n",
    "print(x2)"
   ]
  },
  {
   "cell_type": "markdown",
   "metadata": {},
   "source": [
    "Calculations executed on the GPU can be many times faster than numpy. However, numpy is still optimized for the CPU and many times faster than python `for` loops. Numpy calculations may be faster than GPU calculations for small arrays due to the cost of interfacing with the GPU."
   ]
  },
  {
   "cell_type": "code",
   "execution_count": 36,
   "metadata": {},
   "outputs": [
    {
     "name": "stdout",
     "output_type": "stream",
     "text": [
      "CPU: 185.08557113818824ms\n",
      "GPU: 52.751455921679735ms\n"
     ]
    }
   ],
   "source": [
    "from timeit import timeit\n",
    "# Create random data\n",
    "x = torch.rand(1000,64)\n",
    "y = torch.rand(64,32)\n",
    "number = 10000  # number of iterations\n",
    "\n",
    "def square():\n",
    "  z=torch.mm(x, y) # dot product (mm=matrix multiplication)\n",
    "\n",
    "# Time CPU\n",
    "print('CPU: {}ms'.format(timeit(square, number=number)*1000))\n",
    "# Time GPU\n",
    "x, y = x.cuda(), y.cuda()\n",
    "print('GPU: {}ms'.format(timeit(square, number=number)*1000))"
   ]
  },
  {
   "cell_type": "markdown",
   "metadata": {},
   "source": [
    "## Math, Linear Algebra, and Indexing"
   ]
  },
  {
   "cell_type": "markdown",
   "metadata": {},
   "source": [
    "Pytorch math and linear algebra is similar to numpy. Operators are overridden so you can use standard math operators (`+`,`-`, etc.) and expect a tensor as a result. See pytorch documentation for a complete list of available functions."
   ]
  },
  {
   "cell_type": "code",
   "execution_count": 37,
   "metadata": {},
   "outputs": [
    {
     "name": "stdout",
     "output_type": "stream",
     "text": [
      "10.0\n",
      "85.79102325439453\n",
      "2.0\n"
     ]
    }
   ],
   "source": [
    "x = torch.arange(0,5)\n",
    "print(torch.sum(x))\n",
    "print(torch.sum(torch.exp(x)))\n",
    "print(torch.mean(x))"
   ]
  },
  {
   "cell_type": "markdown",
   "metadata": {},
   "source": [
    "Pytorch indexing is similar to numpy indexing. See pytorch documentation for details."
   ]
  },
  {
   "cell_type": "code",
   "execution_count": 38,
   "metadata": {},
   "outputs": [
    {
     "name": "stdout",
     "output_type": "stream",
     "text": [
      "\n",
      " 0.7526  0.5557\n",
      " 0.6445  0.7588\n",
      " 0.4765  0.2728\n",
      "[torch.FloatTensor of size 3x2]\n",
      "\n",
      "\n",
      " 0.6445\n",
      " 0.7588\n",
      "[torch.FloatTensor of size 2]\n",
      "\n"
     ]
    }
   ],
   "source": [
    "x = torch.rand(3,2)\n",
    "print(x)\n",
    "print(x[1,:])"
   ]
  },
  {
   "cell_type": "markdown",
   "metadata": {},
   "source": [
    "## Variables and Differentiation"
   ]
  },
  {
   "cell_type": "markdown",
   "metadata": {},
   "source": [
    "Variables are used similarly to tensors but actually wrap tensors and provide automatic differentiation.\n",
    "\n",
    "- Variables you are differentiating with respect to must have `requires_grad=True`\n",
    "- Call `.backward()` on variables you are differentiating"
   ]
  },
  {
   "cell_type": "code",
   "execution_count": 39,
   "metadata": {},
   "outputs": [
    {
     "name": "stdout",
     "output_type": "stream",
     "text": [
      "Variable containing:\n",
      " 0\n",
      " 1\n",
      " 2\n",
      " 3\n",
      "[torch.FloatTensor of size 4]\n",
      "\n",
      "Variable containing:\n",
      " 14\n",
      "[torch.FloatTensor of size 1]\n",
      "\n",
      "Variable containing:\n",
      " 0\n",
      " 2\n",
      " 4\n",
      " 6\n",
      "[torch.FloatTensor of size 4]\n",
      "\n"
     ]
    }
   ],
   "source": [
    "# Create variable\n",
    "x = Variable(torch.arange(0,4), requires_grad=True)\n",
    "# Calculate y=sum(x**2)\n",
    "y = torch.sum(x**2)\n",
    "# Calculate gradient (dy/dx=2x)\n",
    "y.backward()\n",
    "# Print values\n",
    "print(x)\n",
    "print(y)\n",
    "print(x.grad)"
   ]
  },
  {
   "cell_type": "markdown",
   "metadata": {},
   "source": [
    "Variables and Tensors cannot be mixed. Wrap all tensors to use them in automatic differentiation."
   ]
  },
  {
   "cell_type": "code",
   "execution_count": 40,
   "metadata": {},
   "outputs": [
    {
     "name": "stdout",
     "output_type": "stream",
     "text": [
      "\n",
      " 1.3053  1.4458  0.8122  1.8480\n",
      " 2.2392  2.2687  0.8424  2.3457\n",
      " 1.9050  2.0709  1.0581  2.4536\n",
      "[torch.FloatTensor of size 3x4]\n",
      "\n",
      "Variable containing:\n",
      " 1.3053  1.4458  0.8122  1.8480\n",
      " 2.2392  2.2687  0.8424  2.3457\n",
      " 1.9050  2.0709  1.0581  2.4536\n",
      "[torch.FloatTensor of size 3x4]\n",
      "\n",
      "torch.mm received an invalid combination of arguments - got (torch.FloatTensor, Variable), but expected one of:\n",
      " * (torch.FloatTensor source, torch.FloatTensor mat2)\n",
      "      didn't match because some of the arguments have invalid types: (\u001b[32;1mtorch.FloatTensor\u001b[0m, \u001b[31;1mVariable\u001b[0m)\n",
      " * (torch.SparseFloatTensor source, torch.FloatTensor mat2)\n",
      "      didn't match because some of the arguments have invalid types: (\u001b[31;1mtorch.FloatTensor\u001b[0m, \u001b[31;1mVariable\u001b[0m)\n",
      "\n"
     ]
    }
   ],
   "source": [
    "x=torch.rand(3,5)  # tensor\n",
    "y=torch.rand(5,4)  # tensor\n",
    "xv=Variable(x)  # variable\n",
    "yv=Variable(y)  # variable\n",
    "print(torch.mm(x,y))  # dot between two tensors OK\n",
    "print(torch.mm(xv,yv))  # dot between two variables OK\n",
    "try:\n",
    "  fail=torch.mm(x,yv)  # dot between tensor and variable FAIL\n",
    "except TypeError as e:\n",
    "  print(e)"
   ]
  },
  {
   "cell_type": "markdown",
   "metadata": {},
   "source": [
    "Differentiation accumulates gradients. This is sometimes what you want and sometimes not. **Make sure to zero gradients between batches if performing SGD or you will get strange results!**"
   ]
  },
  {
   "cell_type": "code",
   "execution_count": 41,
   "metadata": {},
   "outputs": [
    {
     "name": "stdout",
     "output_type": "stream",
     "text": [
      "Variable containing:\n",
      " 0\n",
      " 2\n",
      " 4\n",
      " 6\n",
      "[torch.FloatTensor of size 4]\n",
      "\n",
      "Variable containing:\n",
      "  0\n",
      "  4\n",
      "  8\n",
      " 12\n",
      "[torch.FloatTensor of size 4]\n",
      "\n",
      "Variable containing:\n",
      " 0\n",
      " 2\n",
      " 4\n",
      " 6\n",
      "[torch.FloatTensor of size 4]\n",
      "\n"
     ]
    }
   ],
   "source": [
    "# Create a variable\n",
    "x=Variable(torch.arange(0,4), requires_grad=True)\n",
    "# Differentiate\n",
    "torch.sum(x**2).backward()\n",
    "print(x.grad)\n",
    "# Differentiate again (accumulates gradient)\n",
    "torch.sum(x**2).backward()\n",
    "print(x.grad)\n",
    "# Zero gradient before differentiating\n",
    "x.grad.data.zero_()\n",
    "torch.sum(x**2).backward()\n",
    "print(x.grad)"
   ]
  },
  {
   "cell_type": "markdown",
   "metadata": {},
   "source": [
    "## Neural Network Modules"
   ]
  },
  {
   "cell_type": "markdown",
   "metadata": {},
   "source": [
    "Pytorch provides a framework for developing neural network modules that takes care of things like tracking a list of parameters for you.\n",
    "\n",
    "- `nn.Module` objects are reusable components such as dense layers and activation functions\n",
    "- You can write custom modules for any experimental layers\n",
    "- You can combine modules into larger module classes"
   ]
  },
  {
   "cell_type": "code",
   "execution_count": 42,
   "metadata": {},
   "outputs": [],
   "source": [
    "# create a simple sequential network (`nn.Module` object) from layers (other `nn.Module` objects)\n",
    "net = torch.nn.Sequential(\n",
    "    torch.nn.Linear(28*28,256),\n",
    "    torch.nn.Sigmoid(),\n",
    "    torch.nn.Linear(256,10))"
   ]
  },
  {
   "cell_type": "code",
   "execution_count": 43,
   "metadata": {},
   "outputs": [],
   "source": [
    "# create a more customizable network module\n",
    "class MyNetwork(torch.nn.Module):\n",
    "    def __init__(self):\n",
    "        super().__init__()\n",
    "        self.layer1 = torch.nn.Linear(28*28,256)\n",
    "        self.layer2 = torch.nn.Sigmoid()\n",
    "        self.layer3 = torch.nn.Linear(256,10)\n",
    "\n",
    "    def forward(self, input_val):\n",
    "        h = input_val\n",
    "        h = self.layer1(h)\n",
    "        h = self.layer2(h)\n",
    "        h = self.layer3(h)\n",
    "        return h\n",
    "\n",
    "net = MyNetwork()"
   ]
  },
  {
   "cell_type": "markdown",
   "metadata": {},
   "source": [
    "## Saving and Loading"
   ]
  },
  {
   "cell_type": "code",
   "execution_count": 44,
   "metadata": {},
   "outputs": [
    {
     "name": "stdout",
     "output_type": "stream",
     "text": [
      "odict_keys(['0.weight', '0.bias', '2.weight', '2.bias'])\n"
     ]
    }
   ],
   "source": [
    "# get dictionary of keys to weights using `state_dict`\n",
    "net = torch.nn.Sequential(\n",
    "    torch.nn.Linear(28*28,256),\n",
    "    torch.nn.Sigmoid(),\n",
    "    torch.nn.Linear(256,10))\n",
    "print(net.state_dict().keys())"
   ]
  },
  {
   "cell_type": "code",
   "execution_count": 45,
   "metadata": {},
   "outputs": [],
   "source": [
    "# save a dictionary\n",
    "torch.save(net.state_dict(),'test.t7')\n",
    "# load a dictionary\n",
    "net.load_state_dict(torch.load('test.t7'))"
   ]
  },
  {
   "cell_type": "markdown",
   "metadata": {},
   "source": [
    "## Building a Neural Network\n",
    "\n",
    "For a worked example of how to build and train a pytorch network, see `pytorch-example.py`.\n",
    "\n",
    "Good luck!"
   ]
  },
  {
   "cell_type": "code",
   "execution_count": null,
   "metadata": {},
   "outputs": [],
   "source": []
  }
 ],
 "metadata": {
  "kernelspec": {
   "display_name": "Python 3",
   "language": "python",
   "name": "python3"
  },
  "language_info": {
   "codemirror_mode": {
    "name": "ipython",
    "version": 3
   },
   "file_extension": ".py",
   "mimetype": "text/x-python",
   "name": "python",
   "nbconvert_exporter": "python",
   "pygments_lexer": "ipython3",
   "version": "3.5.2"
  }
 },
 "nbformat": 4,
 "nbformat_minor": 2
}
